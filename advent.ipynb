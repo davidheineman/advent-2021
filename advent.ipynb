{
 "cells": [
  {
   "cell_type": "markdown",
   "metadata": {},
   "source": [
    "#### Day 1"
   ]
  },
  {
   "cell_type": "code",
   "execution_count": 1,
   "metadata": {},
   "outputs": [],
   "source": [
    "with open('advent-of-code/in/d1.txt') as data:\n",
    "    data = data.read()\n",
    "data = [int(i) for i in data.split('\\n')[1:]]"
   ]
  },
  {
   "cell_type": "code",
   "execution_count": 2,
   "metadata": {},
   "outputs": [
    {
     "data": {
      "text/plain": [
       "1394"
      ]
     },
     "execution_count": 2,
     "metadata": {},
     "output_type": "execute_result"
    }
   ],
   "source": [
    "# Part 1\n",
    "sum([data[i] > data[i-1] for i in range(-2, len(data))])"
   ]
  },
  {
   "cell_type": "code",
   "execution_count": 3,
   "metadata": {},
   "outputs": [
    {
     "data": {
      "text/plain": [
       "1359"
      ]
     },
     "execution_count": 3,
     "metadata": {},
     "output_type": "execute_result"
    }
   ],
   "source": [
    "# Part 2\n",
    "sum([sum(data[i-3:i]) > sum(data[i-4:i-1]) for i in range(3, len(data))])"
   ]
  },
  {
   "cell_type": "markdown",
   "metadata": {},
   "source": [
    "#### Day 2"
   ]
  },
  {
   "cell_type": "code",
   "execution_count": 4,
   "metadata": {},
   "outputs": [],
   "source": [
    "with open('advent-of-code/in/d2.txt') as data:\n",
    "    data = data.read()\n",
    "data = [[str(i[0]), int(i[1])] for i in [i.split(' ') for i in data.split('\\n')]]"
   ]
  },
  {
   "cell_type": "code",
   "execution_count": 5,
   "metadata": {},
   "outputs": [
    {
     "data": {
      "text/plain": [
       "2027977"
      ]
     },
     "execution_count": 5,
     "metadata": {},
     "output_type": "execute_result"
    }
   ],
   "source": [
    "depth, hpos = 0, 0\n",
    "for entry in data:\n",
    "    if entry[0] == 'forward':\n",
    "        hpos += entry[1]\n",
    "    if entry[0] == 'down':\n",
    "        depth += entry[1]\n",
    "    if entry[0] == 'up':\n",
    "        depth -= entry[1]\n",
    "depth * hpos"
   ]
  },
  {
   "cell_type": "code",
   "execution_count": 6,
   "metadata": {},
   "outputs": [
    {
     "data": {
      "text/plain": [
       "1903644897"
      ]
     },
     "execution_count": 6,
     "metadata": {},
     "output_type": "execute_result"
    }
   ],
   "source": [
    "aim, hpos, depth = 0, 0, 0\n",
    "for entry in data:\n",
    "    if entry[0] == 'forward':\n",
    "        hpos += entry[1]\n",
    "        depth += aim * entry[1]\n",
    "    if entry[0] == 'down':\n",
    "        aim += entry[1]\n",
    "    if entry[0] == 'up':\n",
    "        aim -= entry[1]\n",
    "depth * hpos"
   ]
  },
  {
   "cell_type": "markdown",
   "metadata": {},
   "source": [
    "#### Day 3"
   ]
  },
  {
   "cell_type": "code",
   "execution_count": 7,
   "metadata": {},
   "outputs": [],
   "source": [
    "with open('advent-of-code/in/d3.txt') as data:\n",
    "    data = data.read()\n",
    "data = data.split('\\n')"
   ]
  },
  {
   "cell_type": "code",
   "execution_count": 8,
   "metadata": {},
   "outputs": [
    {
     "name": "stdout",
     "output_type": "stream",
     "text": [
      "gamma: 349, epsilon: 3746\n"
     ]
    },
    {
     "data": {
      "text/plain": [
       "1307354"
      ]
     },
     "execution_count": 8,
     "metadata": {},
     "output_type": "execute_result"
    }
   ],
   "source": [
    "gamma, epsilon = \"\", \"\"\n",
    "for bit in range(len(data[0])):\n",
    "    if(sum([i[bit] == '0' for i in data]) > len(data) / 2):\n",
    "        gamma += '0'\n",
    "        epsilon += '1'\n",
    "    else:\n",
    "        gamma += '1'\n",
    "        epsilon += '0'    \n",
    "print(f'gamma: {int(gamma, 2)}, epsilon: {int(epsilon, 2)}')\n",
    "int(gamma, 2) * int(epsilon, 2)"
   ]
  },
  {
   "cell_type": "code",
   "execution_count": 9,
   "metadata": {},
   "outputs": [
    {
     "data": {
      "text/plain": [
       "482500"
      ]
     },
     "execution_count": 9,
     "metadata": {},
     "output_type": "execute_result"
    }
   ],
   "source": [
    "idx, ox = 0, data\n",
    "while idx < len(data[0]) and len(ox) > 1:\n",
    "    ox = [c for c in ox if c[idx] == '0'] if sum([i[idx] == '0' for i in ox]) > len(ox) / 2 else [c for c in ox if c[idx] == '1']\n",
    "    idx += 1\n",
    "\n",
    "idx, c02 = 0, data\n",
    "while idx < len(data[0]) and len(c02) > 1:\n",
    "    c02 = [c for c in c02 if c[idx] == '0'] if sum([i[idx] == '0' for i in c02]) <= len(c02) / 2 else [c for c in c02 if c[idx] == '1']\n",
    "    idx += 1\n",
    "\n",
    "int(ox[0], 2) * int(c02[0], 2)"
   ]
  },
  {
   "cell_type": "markdown",
   "metadata": {},
   "source": [
    "#### Day 4"
   ]
  },
  {
   "cell_type": "code",
   "execution_count": 10,
   "metadata": {},
   "outputs": [],
   "source": [
    "with open('advent-of-code/in/d4.txt') as data:\n",
    "    data = data.read()\n",
    "data = [i for i in data.split('\\n') if i != '']\n",
    "nums = [int(i) for i in data[0].split(',')]\n",
    "boards = [data[1:][i*5:(i*5)+5] for i in range(0, int(len(data[1:]) / 5))]\n",
    "boards = [[i.split(' ') for i in boards[idx]] for idx in range(len(boards))]\n",
    "for a in range(len(boards)):\n",
    "    for b in range(len(boards[a])):\n",
    "        boards[a][b] = [int(c) for c in boards[a][b] if c != '']"
   ]
  },
  {
   "cell_type": "code",
   "execution_count": 11,
   "metadata": {},
   "outputs": [
    {
     "data": {
      "text/plain": [
       "25023"
      ]
     },
     "execution_count": 11,
     "metadata": {},
     "output_type": "execute_result"
    }
   ],
   "source": [
    "winner = -1\n",
    "nums_idx = 0\n",
    "mask = [[[0 for i in range(5)] for j in range(5)] for k in range(len(boards))]\n",
    "while winner == -1 and nums_idx < len(nums):\n",
    "    for a in range(len(boards)):\n",
    "        for b in range(len(boards[a])):\n",
    "            for c in range(len(boards[a][b])):\n",
    "                if boards[a][b][c] == nums[nums_idx]:\n",
    "                    mask[a][b][c] = 1\n",
    "    for board in range(len(mask)):\n",
    "        for row in range(len(mask[board])):\n",
    "            if sum(mask[board][row]) == 5:\n",
    "                winner = board\n",
    "        for col in range(len(mask[board])):\n",
    "            if sum([row[0] for row in mask[board]]) == 5:\n",
    "                winner = board\n",
    "    nums_idx += 1\n",
    "win_board = boards[winner]\n",
    "for row in range(5):\n",
    "    for col in range(5):\n",
    "        if mask[winner][row][col] == 1:\n",
    "            win_board[row][col] = 0\n",
    "nums[nums_idx - 1] * sum([sum(i) for i in win_board])"
   ]
  },
  {
   "cell_type": "code",
   "execution_count": 12,
   "metadata": {},
   "outputs": [
    {
     "data": {
      "text/plain": [
       "5424"
      ]
     },
     "execution_count": 12,
     "metadata": {},
     "output_type": "execute_result"
    }
   ],
   "source": [
    "winners = [0 for i in range(len(boards))]\n",
    "mask = [[[0 for i in range(5)] for j in range(5)] for k in range(len(boards))]\n",
    "for nums_idx in range(len(nums)):\n",
    "    num = nums[nums_idx]\n",
    "    \n",
    "    # Check numbers on bingo boards\n",
    "    for board in range(len(boards)):\n",
    "        for i in range(5):\n",
    "            for j in range(5):\n",
    "                if boards[board][i][j] == num and winners[board] == 0:\n",
    "                    mask[board][i][j] = 1\n",
    "    \n",
    "    # Check for winning boards\n",
    "    for board in range(len(boards)):\n",
    "        for i in range(5):\n",
    "            if sum(mask[board][i]) == 5 and winners[board] == 0:\n",
    "                winners[board] = nums_idx\n",
    "        for j in range(5):\n",
    "            if sum([row[j] for row in mask[board]]) == 5 and winners[board] == 0:\n",
    "                winners[board] = nums_idx\n",
    "\n",
    "# Get the argmax of winning boards\n",
    "win_board_idx = -max((x,-i) for i,x in enumerate(winners))[1]\n",
    "\n",
    "# Recover the score of the winning board\n",
    "win_board = boards[win_board_idx]\n",
    "for row in range(5):\n",
    "    for col in range(5):\n",
    "        if mask[winner][row][col] == 1:\n",
    "            win_board[row][col] = 0\n",
    "nums[max(winners)] * sum([sum(i) for i in win_board])"
   ]
  },
  {
   "cell_type": "code",
   "execution_count": 13,
   "metadata": {},
   "outputs": [],
   "source": [
    "# 49720 is to high"
   ]
  },
  {
   "cell_type": "markdown",
   "metadata": {},
   "source": [
    "#### Day 5"
   ]
  },
  {
   "cell_type": "code",
   "execution_count": 14,
   "metadata": {},
   "outputs": [],
   "source": [
    "with open('advent-of-code/in/d5.txt') as data:\n",
    "    data = data.read()\n",
    "data = [[tuple([int(k) for k in j.split(',')]) for j in i] for i in [i.split(' -> ') for i in data.split('\\n')]]"
   ]
  },
  {
   "cell_type": "code",
   "execution_count": 15,
   "metadata": {},
   "outputs": [
    {
     "data": {
      "text/plain": [
       "5835"
      ]
     },
     "execution_count": 15,
     "metadata": {},
     "output_type": "execute_result"
    }
   ],
   "source": [
    "mask = [[0 for i in range(1000)] for j in range(1000)]\n",
    "for d in data:\n",
    "    if d[0][1] == d[1][1]:\n",
    "        for i in range(abs(d[0][0] - d[1][0]) + 1):\n",
    "            mask[min(d[0][0], d[1][0]) + i][d[0][1]] += 1\n",
    "    elif d[0][0] == d[1][0]:\n",
    "        for i in range(abs(d[0][1] - d[1][1]) + 1):\n",
    "            mask[d[0][0]][min(d[0][1], d[1][1]) + i] += 1\n",
    "sum([sum([col >= 2 for col in row]) for row in mask])"
   ]
  },
  {
   "cell_type": "code",
   "execution_count": 16,
   "metadata": {},
   "outputs": [
    {
     "data": {
      "text/plain": [
       "17013"
      ]
     },
     "execution_count": 16,
     "metadata": {},
     "output_type": "execute_result"
    }
   ],
   "source": [
    "mask = [[0 for i in range(1000)] for j in range(1000)]\n",
    "for d in data:\n",
    "    if d[0][1] == d[1][1]:\n",
    "        for i in range(abs(d[0][0] - d[1][0]) + 1):\n",
    "            mask[min(d[0][0], d[1][0]) + i][d[0][1]] += 1\n",
    "    elif d[0][0] == d[1][0]:\n",
    "        for i in range(abs(d[0][1] - d[1][1]) + 1):\n",
    "            mask[d[0][0]][min(d[0][1], d[1][1]) + i] += 1\n",
    "    else:\n",
    "        if d[0][0] < d[1][0]:\n",
    "            ld, rd = d[0], d[1]\n",
    "        else:\n",
    "            ld, rd = d[1], d[0]\n",
    "        for i in range(abs(ld[0] - rd[0])+1):\n",
    "            if ld[1] > rd[1]:\n",
    "                mask[ld[0]+i][ld[1]-i] += 1\n",
    "            else:\n",
    "                mask[ld[0]+i][ld[1]+i] += 1\n",
    "sum([sum([col >= 2 for col in row]) for row in mask])"
   ]
  },
  {
   "cell_type": "markdown",
   "metadata": {},
   "source": [
    "#### Day 6"
   ]
  },
  {
   "cell_type": "code",
   "execution_count": 17,
   "metadata": {},
   "outputs": [],
   "source": [
    "with open('advent-of-code/in/d6.txt') as data:\n",
    "    data = data.read()\n",
    "data = [int(i) for i in data.split(',')]"
   ]
  },
  {
   "cell_type": "code",
   "execution_count": 18,
   "metadata": {},
   "outputs": [
    {
     "data": {
      "text/plain": [
       "362666"
      ]
     },
     "execution_count": 18,
     "metadata": {},
     "output_type": "execute_result"
    }
   ],
   "source": [
    "fish = data.copy()\n",
    "for day in range(80):\n",
    "    for idx in range(len(fish)):\n",
    "        timer = fish[idx]\n",
    "        if timer <= 0:\n",
    "            fish.append(8)\n",
    "            fish[idx] = 7\n",
    "        fish[idx] -= 1\n",
    "len(fish)"
   ]
  },
  {
   "cell_type": "code",
   "execution_count": 19,
   "metadata": {},
   "outputs": [],
   "source": [
    "# Space & time will explode with 256 fish!\n",
    "# We need to look at the lifespan of an individual fish after 256 iterations?\n",
    "# AKA how many fish does one starting at 1-6 create after 256 iterations."
   ]
  },
  {
   "cell_type": "markdown",
   "metadata": {},
   "source": [
    "#### Day 7"
   ]
  },
  {
   "cell_type": "code",
   "execution_count": 20,
   "metadata": {},
   "outputs": [],
   "source": [
    "with open('advent-of-code/in/d7.txt') as data:\n",
    "    data = data.read()\n",
    "data = [int(i) for i in data.split(',')]"
   ]
  },
  {
   "cell_type": "code",
   "execution_count": 21,
   "metadata": {},
   "outputs": [
    {
     "data": {
      "text/plain": [
       "326132"
      ]
     },
     "execution_count": 21,
     "metadata": {},
     "output_type": "execute_result"
    }
   ],
   "source": [
    "min([sum([abs(a - d) for d in data]) for a in data])"
   ]
  },
  {
   "cell_type": "code",
   "execution_count": 22,
   "metadata": {},
   "outputs": [
    {
     "data": {
      "text/plain": [
       "88612508"
      ]
     },
     "execution_count": 22,
     "metadata": {},
     "output_type": "execute_result"
    }
   ],
   "source": [
    "min([int(sum([abs(a - d) * (abs(a - d) + 1) / 2 for d in data])) for a in range(0, max(data)+1)])"
   ]
  },
  {
   "cell_type": "markdown",
   "metadata": {},
   "source": [
    "#### Day 8"
   ]
  },
  {
   "cell_type": "code",
   "execution_count": null,
   "metadata": {},
   "outputs": [],
   "source": []
  },
  {
   "cell_type": "markdown",
   "metadata": {},
   "source": [
    "#### Day 9"
   ]
  },
  {
   "cell_type": "code",
   "execution_count": 23,
   "metadata": {},
   "outputs": [],
   "source": [
    "with open('advent-of-code/in/d9.txt') as data:\n",
    "    data = data.read()\n",
    "data = [[int(c) for c in a] for a in [i for i in data.split('\\n')]]"
   ]
  },
  {
   "cell_type": "code",
   "execution_count": 27,
   "metadata": {},
   "outputs": [
    {
     "data": {
      "text/plain": [
       "478"
      ]
     },
     "execution_count": 27,
     "metadata": {},
     "output_type": "execute_result"
    }
   ],
   "source": [
    "count = 0\n",
    "for i in range(100):\n",
    "    for j in range(100):\n",
    "        edge1 = data[i-1][j] if i > 0 else float('inf')\n",
    "        edge2 = data[i+1][j] if i < 99 else float('inf')\n",
    "        edge3 = data[i][j-1] if j > 0 else float('inf')\n",
    "        edge4 = data[i][j+1] if j < 99 else float('inf')\n",
    "        if sum([data[i][j] < edge for edge in [edge1, edge2, edge3, edge4]]) == 4:\n",
    "            count += (data[i][j] + 1)\n",
    "count"
   ]
  },
  {
   "cell_type": "code",
   "execution_count": 25,
   "metadata": {},
   "outputs": [],
   "source": [
    "# 232 is too low"
   ]
  }
 ],
 "metadata": {
  "kernelspec": {
   "display_name": "Python 3 Root Install",
   "language": "python",
   "name": "python3"
  },
  "language_info": {
   "codemirror_mode": {
    "name": "ipython",
    "version": 3
   },
   "file_extension": ".py",
   "mimetype": "text/x-python",
   "name": "python",
   "nbconvert_exporter": "python",
   "pygments_lexer": "ipython3",
   "version": "3.9.0"
  }
 },
 "nbformat": 4,
 "nbformat_minor": 4
}
